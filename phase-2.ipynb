{
 "cells": [
  {
   "cell_type": "markdown",
   "id": "42acfa26",
   "metadata": {},
   "source": [
    "## Numpy Array operations"
   ]
  },
  {
   "cell_type": "code",
   "execution_count": 1,
   "id": "0d801889",
   "metadata": {},
   "outputs": [],
   "source": [
    "import numpy as np"
   ]
  },
  {
   "cell_type": "code",
   "execution_count": 3,
   "id": "4fd8a5f0",
   "metadata": {},
   "outputs": [
    {
     "name": "stdout",
     "output_type": "stream",
     "text": [
      "Basic Slicing [3 4 5 6 7]\n",
      "With Step [2 4 6 8]\n",
      "Negative indexing 8\n"
     ]
    }
   ],
   "source": [
    "arr = np.array([1, 2, 3, 4, 5, 6, 7, 8, 9, 10])\n",
    "print(\"Basic Slicing\", arr[2:7])\n",
    "print(\"With Step\", arr[1:8:2])\n",
    "print(\"Negative indexing\", arr[-3])"
   ]
  },
  {
   "cell_type": "code",
   "execution_count": 14,
   "id": "0ea8976c",
   "metadata": {},
   "outputs": [
    {
     "name": "stdout",
     "output_type": "stream",
     "text": [
      "Specific element 8\n",
      "Entire row:  [4 5 6]\n"
     ]
    }
   ],
   "source": [
    "arr_2d = np.array([[ [1, 2, 3],\n",
    "                     [4, 5, 6],\n",
    "                     [7, 8, 9] ]])\n",
    "print(\"Specific element\", arr_2d[0, 2, 1])\n",
    "print(\"Entire row: \", arr_2d[0, 1])"
   ]
  },
  {
   "cell_type": "markdown",
   "id": "1bca4300",
   "metadata": {},
   "source": [
    "### Sorting"
   ]
  },
  {
   "cell_type": "code",
   "execution_count": 18,
   "id": "b6e53a97",
   "metadata": {},
   "outputs": [
    {
     "name": "stdout",
     "output_type": "stream",
     "text": [
      "Sorted Array [1 1 2 3 4 5 6 9]\n",
      "Sorted 2D array by column [[1 1]\n",
      " [2 2]\n",
      " [3 3]]\n"
     ]
    }
   ],
   "source": [
    "unsorted = np.array([3, 1, 4, 1, 5, 9, 2, 6])\n",
    "print(\"Sorted Array\", np.sort(unsorted))\n",
    "\n",
    "arr_2d_unsorted = np.array([[3, 1], [1, 2], [2, 3]])\n",
    "print(\"Sorted 2D array by column\", np.sort(arr_2d_unsorted, axis=0))"
   ]
  },
  {
   "cell_type": "markdown",
   "id": "c01cfc08",
   "metadata": {},
   "source": [
    "### Filter"
   ]
  },
  {
   "cell_type": "code",
   "execution_count": 20,
   "id": "c176e32c",
   "metadata": {},
   "outputs": [
    {
     "name": "stdout",
     "output_type": "stream",
     "text": [
      "Even numbers [ 2  4  6  8 10]\n"
     ]
    }
   ],
   "source": [
    "numbers = np.array([1, 2, 3, 4, 5, 6, 7, 8, 9, 10])\n",
    "even_number = numbers[numbers % 2 == 0]\n",
    "print(\"Even numbers\", even_number)"
   ]
  },
  {
   "cell_type": "markdown",
   "id": "a9aabdb2",
   "metadata": {},
   "source": [
    "### Filter with mask"
   ]
  },
  {
   "cell_type": "code",
   "execution_count": 21,
   "id": "455c4ef2",
   "metadata": {},
   "outputs": [
    {
     "name": "stdout",
     "output_type": "stream",
     "text": [
      "Numbers greater than 5 [ 1  2  3  4  5  6  7  8  9 10]\n"
     ]
    }
   ],
   "source": [
    "mask = numbers > 0\n",
    "print(\"Numbers greater than 5\", numbers[mask])"
   ]
  },
  {
   "cell_type": "markdown",
   "id": "63684227",
   "metadata": {},
   "source": [
    "### Fancy indexing vs np.where()"
   ]
  },
  {
   "cell_type": "code",
   "execution_count": 10,
   "id": "366e194d",
   "metadata": {},
   "outputs": [
    {
     "name": "stdout",
     "output_type": "stream",
     "text": [
      "[array([0, 2, 4])]\n",
      "Where result from indices: [4]\n",
      "Where numbers > 5: (array([2, 4]),)\n",
      "Numbers > 5 values: [7 9]\n"
     ]
    }
   ],
   "source": [
    "numbers = np.array([1, 3, 7, 2, 9, 4])\n",
    "indices = np.array([0, 2, 4])\n",
    "\n",
    "print([indices])\n",
    "\n",
    "where_result = np.where(indices > 2)\n",
    "print(\"Where result from indices:\", indices[where_result])\n",
    "\n",
    "condition_array = np.where(numbers > 5)\n",
    "print(\"Where numbers > 5:\", condition_array) \n",
    "\n",
    "print(\"Numbers > 5 values:\", numbers[condition_array]) \n"
   ]
  }
 ],
 "metadata": {
  "kernelspec": {
   "display_name": "Python 3",
   "language": "python",
   "name": "python3"
  },
  "language_info": {
   "codemirror_mode": {
    "name": "ipython",
    "version": 3
   },
   "file_extension": ".py",
   "mimetype": "text/x-python",
   "name": "python",
   "nbconvert_exporter": "python",
   "pygments_lexer": "ipython3",
   "version": "3.13.3"
  }
 },
 "nbformat": 4,
 "nbformat_minor": 5
}
