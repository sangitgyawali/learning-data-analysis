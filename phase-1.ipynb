{
 "cells": [
  {
   "cell_type": "code",
   "execution_count": null,
   "id": "a73c3d07",
   "metadata": {},
   "outputs": [],
   "source": [
    "## Numpy array and basics"
   ]
  },
  {
   "cell_type": "code",
   "execution_count": 1,
   "id": "abd6468c",
   "metadata": {},
   "outputs": [],
   "source": [
    "import numpy as np"
   ]
  },
  {
   "cell_type": "markdown",
   "id": "ef8e4d67",
   "metadata": {},
   "source": [
    "## Creating array from list"
   ]
  },
  {
   "cell_type": "code",
   "execution_count": 5,
   "id": "2ec3ef7b",
   "metadata": {},
   "outputs": [
    {
     "name": "stdout",
     "output_type": "stream",
     "text": [
      "1D array: [1 2 3 4 5]\n",
      "2D array: [[1 2 3]\n",
      " [4 5 6]]\n"
     ]
    }
   ],
   "source": [
    "arr_1d = np.array([1, 2, 3, 4, 5])\n",
    "print(\"1D array:\", arr_1d)\n",
    "\n",
    "arr_2d = np.array([[1, 2, 3], [4, 5, 6]])\n",
    "print(\"2D array:\", arr_2d)"
   ]
  },
  {
   "cell_type": "markdown",
   "id": "4b95789b",
   "metadata": {},
   "source": [
    "### List vs numpy array"
   ]
  },
  {
   "cell_type": "code",
   "execution_count": 7,
   "id": "64be44f2",
   "metadata": {},
   "outputs": [
    {
     "name": "stdout",
     "output_type": "stream",
     "text": [
      "Python list multiplication [1, 2, 3, 1, 2, 3]\n",
      "Python array multiplication [2 4 6]\n",
      "\n",
      " List operation time:  0.06440472602844238\n",
      "\n",
      " Numpy operation time:  0.004216432571411133\n"
     ]
    }
   ],
   "source": [
    "py_list = [1, 2, 3]\n",
    "print(\"Python list multiplication\", py_list * 2)\n",
    "\n",
    "np_array = np.array([1, 2, 3])\n",
    "print(\"Python array multiplication\", np_array * 2)\n",
    "\n",
    "import time\n",
    "start = time.time()\n",
    "py_list = [i*2 for i in range(1000000)]\n",
    "print(\"\\n List operation time: \", time.time() - start)\n",
    "\n",
    "start = time.time()\n",
    "np_array = np.arange(1000000 * 2)\n",
    "print(\"\\n Numpy operation time: \", time.time() - start)\n"
   ]
  },
  {
   "cell_type": "markdown",
   "id": "e2156fa2",
   "metadata": {},
   "source": [
    "## Creating array from scratch"
   ]
  },
  {
   "cell_type": "code",
   "execution_count": 67,
   "id": "52b6e690",
   "metadata": {},
   "outputs": [
    {
     "name": "stdout",
     "output_type": "stream",
     "text": [
      "zeros array: \n",
      " [[0. 0. 0. 0.]\n",
      " [0. 0. 0. 0.]\n",
      " [0. 0. 0. 0.]]\n",
      "ones array: \n",
      " [[1. 1. 1.]\n",
      " [1. 1. 1.]]\n",
      "full array: \n",
      " [[7 7]\n",
      " [7 7]]\n",
      "random array: \n",
      " [[0.76718552 0.0244278  0.40755155]\n",
      " [0.66084111 0.42875948 0.02751148]]\n",
      "sequence array: \n",
      " [0 3 6 9]\n"
     ]
    }
   ],
   "source": [
    "zeros = np.zeros((3, 4))\n",
    "print(\"zeros array: \\n\", zeros)\n",
    "\n",
    "ones = np.ones((2, 3))\n",
    "print(\"ones array: \\n\", ones)\n",
    "\n",
    "full = np.full((2, 2), 7)\n",
    "print(\"full array: \\n\", full)\n",
    "\n",
    "random = np.random.random((2, 3))\n",
    "print(\"random array: \\n\", random)\n",
    "\n",
    "sequence = np.arange(0, 11, 3)\n",
    "print(\"sequence array: \\n\", sequence)\n"
   ]
  },
  {
   "cell_type": "markdown",
   "id": "75a949a2",
   "metadata": {},
   "source": [
    "### Vector, Matrix and Tensor"
   ]
  },
  {
   "cell_type": "code",
   "execution_count": 68,
   "id": "7685e776",
   "metadata": {},
   "outputs": [
    {
     "name": "stdout",
     "output_type": "stream",
     "text": [
      "Vector:  [1 2 3]\n",
      "Matrix:  [[1 2 3]\n",
      " [4 5 6]]\n",
      "Tensor:  [[[1 2]\n",
      "  [3 4]]\n",
      "\n",
      " [[5 6]\n",
      "  [7 8]]]\n"
     ]
    }
   ],
   "source": [
    "vector = np.array([1, 2, 3])\n",
    "print(\"Vector: \", vector)\n",
    "\n",
    "matrix = np.array([[1, 2, 3],\n",
    "                   [4, 5, 6]])\n",
    "print(\"Matrix: \", matrix)\n",
    "\n",
    "\n",
    "tensor = np.array([[[1, 2], [3, 4]],\n",
    "                   [[5, 6], [7, 8]]])\n",
    "print(\"Tensor: \", tensor)\n"
   ]
  },
  {
   "cell_type": "markdown",
   "id": "24c3de1a",
   "metadata": {},
   "source": [
    "### Array properties            "
   ]
  },
  {
   "cell_type": "code",
   "execution_count": 69,
   "id": "eeda7f23",
   "metadata": {},
   "outputs": [
    {
     "name": "stdout",
     "output_type": "stream",
     "text": [
      "Shape  (2, 3)\n",
      "Dimension  2\n",
      "Size  6\n",
      "DType  int64\n"
     ]
    }
   ],
   "source": [
    "arr = np.array([[1, 2, 3],\n",
    "                [4, 5, 6]])\n",
    "print(\"Shape \", arr.shape)\n",
    "print(\"Dimension \", arr.ndim)\n",
    "print(\"Size \", arr.size)\n",
    "print(\"DType \", arr.dtype)"
   ]
  }
 ],
 "metadata": {
  "kernelspec": {
   "display_name": "Python 3",
   "language": "python",
   "name": "python3"
  },
  "language_info": {
   "codemirror_mode": {
    "name": "ipython",
    "version": 3
   },
   "file_extension": ".py",
   "mimetype": "text/x-python",
   "name": "python",
   "nbconvert_exporter": "python",
   "pygments_lexer": "ipython3",
   "version": "3.13.3"
  }
 },
 "nbformat": 4,
 "nbformat_minor": 5
}
